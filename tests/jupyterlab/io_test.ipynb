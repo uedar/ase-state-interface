{
 "cells": [
  {
   "cell_type": "code",
   "execution_count": 1,
   "id": "1aec78b3-2814-4a88-a203-d9c47276c92b",
   "metadata": {},
   "outputs": [
    {
     "name": "stdout",
     "output_type": "stream",
     "text": [
      "../../data/CO.in Atoms(symbols='OC', pbc=False, cell=[10.0000039790815, 10.0000039790815, 10.0000039790815])\n",
      "../../data/CO_copy.in Atoms(symbols='OC', pbc=False, cell=[10.0000039790815, 10.0000039790815, 10.0000039790815])\n",
      "../../data/io_test/test_ethylene/nfinp_gdiis Atoms(symbols='CH2CH2', pbc=False, cell=[6.350126526766093, 6.350126526766093, 6.350126526766093])\n",
      "../../data/io_test/test_si/nfinp_scf Atoms(symbols='Si2', pbc=False, cell=[5.4505252688075645, 5.4505252688075645, 5.4505252688075645])\n",
      "../../data/io_test/test_ni/nfinp_scf Atoms(symbols='Ni', pbc=False, cell=[3.5454873107777356, 3.5454873107777356, 3.5454873107777356])\n",
      "../../data/io_test/test_clonal/nfinp_gdiis_pbc Atoms(symbols='ClAl6', pbc=False, cell=[4.050004863329302, 4.049793192445076, 16.200019453317207])\n",
      "../../data/io_test/test_al/nfinp_scf Atoms(symbols='Al', pbc=False, cell=[3.968829079228809, 3.968829079228809, 3.968829079228809])\n"
     ]
    }
   ],
   "source": [
    "import ase \n",
    "from state_interface import io\n",
    "import os\n",
    "from pprint import pprint\n",
    "# IO TEST: Silicion\n",
    "\n",
    "tests = []\n",
    "testdir = \"../../data/\"\n",
    "file1  = os.path.join(testdir,'CO.in')\n",
    "tests.append(file1)\n",
    "\n",
    "testdir = \"../../data/\"\n",
    "file2  = os.path.join(testdir,'CO_copy.in')\n",
    "tests.append(file2)\n",
    "\n",
    "testdir = \"../../data/io_test/test_ethylene\"\n",
    "file3  = os.path.join(testdir,'nfinp_gdiis')\n",
    "tests.append(file3)\n",
    "\n",
    "testdir = \"../../data/io_test/test_si\"\n",
    "file4  = os.path.join(testdir,'nfinp_scf')\n",
    "tests.append(file4)\n",
    "\n",
    "testdir = \"../../data/io_test/test_ni\"\n",
    "file5  = os.path.join(testdir,'nfinp_scf')\n",
    "tests.append(file5)\n",
    "\n",
    "testdir = \"../../data/io_test/test_clonal\"\n",
    "file6  = os.path.join(testdir,'nfinp_gdiis_pbc')\n",
    "tests.append(file6)\n",
    "\n",
    "testdir = \"../../data/io_test/test_al\"\n",
    "file7  = os.path.join(testdir,'nfinp_scf')\n",
    "tests.append(file7)\n",
    "\n",
    "for test in tests:\n",
    "    print(test, \"  ||  \", io.read_state_input(test))\n",
    "\n",
    "\n"
   ]
  },
  {
   "cell_type": "code",
   "execution_count": 2,
   "id": "d700e1ad",
   "metadata": {},
   "outputs": [
    {
     "data": {
      "text/plain": [
       "Atoms(symbols='OC', pbc=False, cell=[10.0000039790815, 10.0000039790815, 10.0000039790815])"
      ]
     },
     "execution_count": 2,
     "metadata": {},
     "output_type": "execute_result"
    }
   ],
   "source": [
    "io.read_state_input(file2)"
   ]
  }
 ],
 "metadata": {
  "kernelspec": {
   "display_name": "Python 3 (ipykernel)",
   "language": "python",
   "name": "python3"
  },
  "language_info": {
   "codemirror_mode": {
    "name": "ipython",
    "version": 3
   },
   "file_extension": ".py",
   "mimetype": "text/x-python",
   "name": "python",
   "nbconvert_exporter": "python",
   "pygments_lexer": "ipython3",
   "version": "3.10.2"
  }
 },
 "nbformat": 4,
 "nbformat_minor": 5
}
