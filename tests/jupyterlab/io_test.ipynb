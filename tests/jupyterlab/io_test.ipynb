{
 "cells": [
  {
   "cell_type": "code",
   "execution_count": 4,
   "id": "1aec78b3-2814-4a88-a203-d9c47276c92b",
   "metadata": {},
   "outputs": [
    {
     "name": "stdout",
     "output_type": "stream",
     "text": [
      "[[0.   0.   0.  ]\n",
      " [0.25 0.25 0.25]]\n"
     ]
    },
    {
     "data": {
      "text/plain": [
       "Atoms(symbols='Si2', pbc=False, cell=[5.4505252688075645, 5.4505252688075645, 5.4505252688075645])"
      ]
     },
     "execution_count": 4,
     "metadata": {},
     "output_type": "execute_result"
    }
   ],
   "source": [
    "import ase \n",
    "from state_interface import io\n",
    "import os\n",
    "from pprint import pprint\n",
    "# IO TEST: Silicion\n",
    "testdir = \"../../data/\"\n",
    "file1  = os.path.join(testdir,'CO.in')\n",
    "testdir = \"../../data/\"\n",
    "file2  = os.path.join(testdir,'CO_copy.in')\n",
    "\n",
    "testdir = \"../../data/io_test/test_ethylene\"\n",
    "file3  = os.path.join(testdir,'nfinp_gdiis')\n",
    "\n",
    "testdir = \"../../data/io_test/test_si\"\n",
    "file4  = os.path.join(testdir,'nfinp_scf')\n",
    "\n",
    "io.read_state_input(file4)\n"
   ]
  },
  {
   "cell_type": "code",
   "execution_count": 5,
   "id": "d700e1ad",
   "metadata": {},
   "outputs": [
    {
     "data": {
      "text/plain": [
       "Atoms(symbols='OC', pbc=False, cell=[10.0000039790815, 10.0000039790815, 10.0000039790815])"
      ]
     },
     "execution_count": 5,
     "metadata": {},
     "output_type": "execute_result"
    }
   ],
   "source": [
    "io.read_state_input(file2)"
   ]
  }
 ],
 "metadata": {
  "kernelspec": {
   "display_name": "Python 3 (ipykernel)",
   "language": "python",
   "name": "python3"
  },
  "language_info": {
   "codemirror_mode": {
    "name": "ipython",
    "version": 3
   },
   "file_extension": ".py",
   "mimetype": "text/x-python",
   "name": "python",
   "nbconvert_exporter": "python",
   "pygments_lexer": "ipython3",
   "version": "3.10.2"
  }
 },
 "nbformat": 4,
 "nbformat_minor": 5
}
